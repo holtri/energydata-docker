{
 "cells": [
  {
   "cell_type": "markdown",
   "metadata": {},
   "source": [
    "This notebook prepares the weather data for kafka/cassandra import."
   ]
  },
  {
   "cell_type": "code",
   "execution_count": 1,
   "metadata": {
    "collapsed": true
   },
   "outputs": [],
   "source": [
    "import pandas"
   ]
  },
  {
   "cell_type": "code",
   "execution_count": 2,
   "metadata": {
    "collapsed": true
   },
   "outputs": [],
   "source": [
    "data =  pandas.read_csv(\"../data/weather_data_GER_2016.csv\")"
   ]
  },
  {
   "cell_type": "code",
   "execution_count": 3,
   "metadata": {
    "collapsed": true
   },
   "outputs": [],
   "source": [
    "data['ts'] = pandas.to_datetime(data['timestamp'], format=\"%Y-%m-%d %H:%M:%S\")\n",
    "data.drop('timestamp',1, inplace=True)"
   ]
  },
  {
   "cell_type": "code",
   "execution_count": 39,
   "metadata": {
    "collapsed": true
   },
   "outputs": [],
   "source": [
    "#topn = 100\n",
    "#data_export = data.head(topn)\\\n",
    "data_export = data\\\n",
    "    .assign(id=data['lat'].map(str) + \":\" + data['lon'].map(str)) \\\n",
    "    .melt(id_vars=['ts', 'cumulated hours', 'lat', 'lon', 'id']) \\\n",
    "    .rename(columns={'variable':'sensor'})"
   ]
  },
  {
   "cell_type": "code",
   "execution_count": 42,
   "metadata": {
    "collapsed": true
   },
   "outputs": [],
   "source": [
    "data_export \\\n",
    ".loc[:,['id', 'sensor', 'value', 'ts']] \\\n",
    ".to_csv(\"../data/weather_sensor.csv\", index=False)"
   ]
  },
  {
   "cell_type": "code",
   "execution_count": 43,
   "metadata": {
    "collapsed": true
   },
   "outputs": [],
   "source": [
    "data_export \\\n",
    ".loc[:,['id', 'lon', 'lat']] \\\n",
    ".drop_duplicates() \\\n",
    ".to_csv(\"../data/weather_station.csv\", index=False)"
   ]
  }
 ],
 "metadata": {
  "kernelspec": {
   "display_name": "Python [default]",
   "language": "python",
   "name": "python3"
  },
  "language_info": {
   "codemirror_mode": {
    "name": "ipython",
    "version": 3
   },
   "file_extension": ".py",
   "mimetype": "text/x-python",
   "name": "python",
   "nbconvert_exporter": "python",
   "pygments_lexer": "ipython3",
   "version": "3.6.1"
  }
 },
 "nbformat": 4,
 "nbformat_minor": 2
}
