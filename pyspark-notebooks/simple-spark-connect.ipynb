{
 "cells": [
  {
   "cell_type": "markdown",
   "metadata": {},
   "source": [
    "Tell pyspark to load the spark-cassandra connector "
   ]
  },
  {
   "cell_type": "code",
   "execution_count": 6,
   "metadata": {
    "collapsed": true
   },
   "outputs": [],
   "source": [
    "import os\n",
    "os.environ['PYSPARK_SUBMIT_ARGS'] = '--packages com.datastax.spark:spark-cassandra-connector_2.11:2.0.1 pyspark-shell'"
   ]
  },
  {
   "cell_type": "markdown",
   "metadata": {},
   "source": [
    "Create spark session"
   ]
  },
  {
   "cell_type": "code",
   "execution_count": 2,
   "metadata": {
    "collapsed": true
   },
   "outputs": [],
   "source": [
    "from pyspark.sql import SparkSession\n",
    "\n",
    "spark = SparkSession \\\n",
    "    .builder \\\n",
    "    .appName(\"workshop\") \\\n",
    "    .config(\"spark.master\", \"spark://sparkmaster:7077\") \\\n",
    "    .config(\"spark.cassandra.connection.host\", \"node1\") \\\n",
    "    .getOrCreate()"
   ]
  },
  {
   "cell_type": "markdown",
   "metadata": {},
   "source": [
    "Query cassandra table via spark"
   ]
  },
  {
   "cell_type": "code",
   "execution_count": 7,
   "metadata": {
    "collapsed": true
   },
   "outputs": [],
   "source": [
    "ct = spark.read\\\n",
    ".format(\"org.apache.spark.sql.cassandra\")\\\n",
    ".options(table=\"generation\", keyspace=\"energydata\")\\\n",
    ".load()"
   ]
  },
  {
   "cell_type": "markdown",
   "metadata": {},
   "source": [
    "Output collected data"
   ]
  },
  {
   "cell_type": "code",
   "execution_count": 4,
   "metadata": {},
   "outputs": [
    {
     "name": "stdout",
     "output_type": "stream",
     "text": [
      "+------+-----+-------------------+------+\n",
      "|region| type|                 ts| value|\n",
      "+------+-----+-------------------+------+\n",
      "|    DE|solar|2012-01-11 08:45:00|1131.0|\n",
      "|    DE|solar|2012-01-11 08:30:00| 912.0|\n",
      "|    DE|solar|2012-01-11 08:15:00| 709.0|\n",
      "|    DE|solar|2012-01-11 08:00:00| 495.0|\n",
      "|    DE|solar|2012-01-11 07:45:00| 291.0|\n",
      "|    DE|solar|2012-01-11 07:30:00| 162.0|\n",
      "|    DE|solar|2012-01-11 07:15:00|  65.0|\n",
      "|    DE|solar|2012-01-11 07:00:00|   6.0|\n",
      "|    DE|solar|2012-01-11 06:45:00|   0.0|\n",
      "|    DE|solar|2012-01-11 06:30:00|   0.0|\n",
      "|    DE|solar|2012-01-11 06:15:00|   0.0|\n",
      "|    DE|solar|2012-01-11 06:00:00|   0.0|\n",
      "|    DE|solar|2012-01-11 05:45:00|   0.0|\n",
      "|    DE|solar|2012-01-11 05:30:00|   0.0|\n",
      "|    DE|solar|2012-01-11 05:15:00|   0.0|\n",
      "|    DE|solar|2012-01-11 05:00:00|   0.0|\n",
      "|    DE|solar|2012-01-11 04:45:00|   0.0|\n",
      "|    DE|solar|2012-01-11 04:30:00|   0.0|\n",
      "|    DE|solar|2012-01-11 04:15:00|   0.0|\n",
      "|    DE|solar|2012-01-11 04:00:00|   0.0|\n",
      "+------+-----+-------------------+------+\n",
      "only showing top 20 rows\n",
      "\n"
     ]
    }
   ],
   "source": [
    "ct.show()"
   ]
  }
 ],
 "metadata": {
  "kernelspec": {
   "display_name": "Python 3",
   "language": "python",
   "name": "python3"
  },
  "language_info": {
   "codemirror_mode": {
    "name": "ipython",
    "version": 3
   },
   "file_extension": ".py",
   "mimetype": "text/x-python",
   "name": "python",
   "nbconvert_exporter": "python",
   "pygments_lexer": "ipython3",
   "version": "3.6.2"
  }
 },
 "nbformat": 4,
 "nbformat_minor": 2
}
